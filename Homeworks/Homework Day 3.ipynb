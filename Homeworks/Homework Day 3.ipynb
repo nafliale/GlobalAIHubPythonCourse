{
 "cells": [
  {
   "cell_type": "code",
   "execution_count": null,
   "id": "accepting-borough",
   "metadata": {},
   "outputs": [],
   "source": [
    "\n",
    "print(\"**************Login Page**************\")\n",
    "\n",
    "username=\"Magne\"\n",
    "password=\"somepassword\"\n",
    "\n",
    "username1 = input(\"Username: \")\n",
    "password1 = input(\"Password: \")\n",
    "\n",
    "if (username != username1 and password == password1):\n",
    "    print (\"Invalid username\")\n",
    "elif (username == username1 and password != password1):\n",
    "    print (\"Invalid password\")\n",
    "elif (username != username1 and password != password1):\n",
    "    print (\"Invalid username and password\")\n",
    "else:\n",
    "    print (\"Logged in\")"
   ]
  },
  {
   "cell_type": "code",
   "execution_count": null,
   "id": "roman-tooth",
   "metadata": {},
   "outputs": [],
   "source": [
    "\n",
    "print(\"**************Login Page**************\")\n",
    "\n",
    "users = {\"Magne\":\"somepassword\", \"Rhino\":\"somepassword2\",\"MrBubz\":\"somepassword3\"}\n",
    "\n",
    "username=input(\"Username: \")\n",
    "\n",
    "if username in users:\n",
    "    password=input(\"Password: \")\n",
    "\n",
    "    if users[username] == password:\n",
    "        print (\"Logged in\")\n",
    "    elif users[username] != password:\n",
    "        print (\"Incorrect password\")\n",
    "else:\n",
    "        print (\"User does not exist\")"
   ]
  },
  {
   "cell_type": "code",
   "execution_count": null,
   "id": "ordered-italian",
   "metadata": {},
   "outputs": [],
   "source": []
  },
  {
   "cell_type": "code",
   "execution_count": null,
   "id": "broken-husband",
   "metadata": {},
   "outputs": [],
   "source": []
  }
 ],
 "metadata": {
  "kernelspec": {
   "display_name": "Python 3",
   "language": "python",
   "name": "python3"
  },
  "language_info": {
   "codemirror_mode": {
    "name": "ipython",
    "version": 3
   },
   "file_extension": ".py",
   "mimetype": "text/x-python",
   "name": "python",
   "nbconvert_exporter": "python",
   "pygments_lexer": "ipython3",
   "version": "3.5.6"
  }
 },
 "nbformat": 4,
 "nbformat_minor": 5
}
