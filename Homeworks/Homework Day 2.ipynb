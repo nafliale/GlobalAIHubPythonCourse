{
 "cells": [
  {
   "cell_type": "code",
   "execution_count": 1,
   "id": "composite-speaker",
   "metadata": {},
   "outputs": [
    {
     "name": "stdout",
     "output_type": "stream",
     "text": [
      "[1, 2, 3, 4, 5, 6, 7, 8, 9, 10]\n"
     ]
    }
   ],
   "source": [
    "#1\n",
    "\n",
    "mylist=[1, 2, 3, 4, 5, 6, 7, 8, 9, 10]\n",
    "\n",
    "print (mylist)"
   ]
  },
  {
   "cell_type": "code",
   "execution_count": 2,
   "id": "historic-small",
   "metadata": {},
   "outputs": [
    {
     "name": "stdout",
     "output_type": "stream",
     "text": [
      "[6, 7, 8, 9, 10, 1, 2, 3, 4, 5]\n"
     ]
    }
   ],
   "source": [
    "(mylist[5:], mylist[:5]) = (mylist[:5], mylist[5:])\n",
    "\n",
    "print (mylist)"
   ]
  },
  {
   "cell_type": "code",
   "execution_count": 4,
   "id": "simple-grade",
   "metadata": {},
   "outputs": [
    {
     "name": "stdout",
     "output_type": "stream",
     "text": [
      "Enter a number: 12\n",
      "0\n",
      "2\n",
      "4\n",
      "6\n",
      "8\n",
      "10\n",
      "12\n"
     ]
    }
   ],
   "source": [
    "#2\n",
    "\n",
    "n=int(input(\"Enter a number: \"))\n",
    "num = 0\n",
    "\n",
    "while num <=n:\n",
    "  print(num)\n",
    "  num +=2"
   ]
  },
  {
   "cell_type": "code",
   "execution_count": null,
   "id": "dated-childhood",
   "metadata": {},
   "outputs": [],
   "source": []
  }
 ],
 "metadata": {
  "kernelspec": {
   "display_name": "Python 3",
   "language": "python",
   "name": "python3"
  },
  "language_info": {
   "codemirror_mode": {
    "name": "ipython",
    "version": 3
   },
   "file_extension": ".py",
   "mimetype": "text/x-python",
   "name": "python",
   "nbconvert_exporter": "python",
   "pygments_lexer": "ipython3",
   "version": "3.5.6"
  }
 },
 "nbformat": 4,
 "nbformat_minor": 5
}
